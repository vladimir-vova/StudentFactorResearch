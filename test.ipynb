{
 "cells": [
  {
   "cell_type": "code",
   "execution_count": 5,
   "id": "4f02a444-d1ac-454d-ba52-521f3c0e59a6",
   "metadata": {},
   "outputs": [],
   "source": [
    "import pandas as pd"
   ]
  },
  {
   "cell_type": "markdown",
   "id": "02ed70ae-4873-4462-991e-e79ca4ed2722",
   "metadata": {},
   "source": []
  },
  {
   "cell_type": "code",
   "execution_count": 11,
   "id": "f944c09f-a365-43ea-be06-3fd768eaac8a",
   "metadata": {},
   "outputs": [],
   "source": [
    "df = pd.read_csv('StudentPerformanceFactors.csv')"
   ]
  },
  {
   "cell_type": "code",
   "execution_count": 13,
   "id": "088c0b81-96ff-4831-b88a-4ffdf28698bb",
   "metadata": {},
   "outputs": [
    {
     "data": {
      "text/plain": [
       "<bound method NDFrame.head of       Hours_Studied  Attendance Parental_Involvement Access_to_Resources  \\\n",
       "0                23          84                  Low                High   \n",
       "1                19          64                  Low              Medium   \n",
       "2                24          98               Medium              Medium   \n",
       "3                29          89                  Low              Medium   \n",
       "4                19          92               Medium              Medium   \n",
       "...             ...         ...                  ...                 ...   \n",
       "6602             25          69                 High              Medium   \n",
       "6603             23          76                 High              Medium   \n",
       "6604             20          90               Medium                 Low   \n",
       "6605             10          86                 High                High   \n",
       "6606             15          67               Medium                 Low   \n",
       "\n",
       "     Extracurricular_Activities  Sleep_Hours  Previous_Scores  \\\n",
       "0                            No            7               73   \n",
       "1                            No            8               59   \n",
       "2                           Yes            7               91   \n",
       "3                           Yes            8               98   \n",
       "4                           Yes            6               65   \n",
       "...                         ...          ...              ...   \n",
       "6602                         No            7               76   \n",
       "6603                         No            8               81   \n",
       "6604                        Yes            6               65   \n",
       "6605                        Yes            6               91   \n",
       "6606                        Yes            9               94   \n",
       "\n",
       "     Motivation_Level Internet_Access  Tutoring_Sessions Family_Income  \\\n",
       "0                 Low             Yes                  0           Low   \n",
       "1                 Low             Yes                  2        Medium   \n",
       "2              Medium             Yes                  2        Medium   \n",
       "3              Medium             Yes                  1        Medium   \n",
       "4              Medium             Yes                  3        Medium   \n",
       "...               ...             ...                ...           ...   \n",
       "6602           Medium             Yes                  1          High   \n",
       "6603           Medium             Yes                  3           Low   \n",
       "6604              Low             Yes                  3           Low   \n",
       "6605             High             Yes                  2           Low   \n",
       "6606           Medium             Yes                  0        Medium   \n",
       "\n",
       "     Teacher_Quality School_Type Peer_Influence  Physical_Activity  \\\n",
       "0             Medium      Public       Positive                  3   \n",
       "1             Medium      Public       Negative                  4   \n",
       "2             Medium      Public        Neutral                  4   \n",
       "3             Medium      Public       Negative                  4   \n",
       "4               High      Public        Neutral                  4   \n",
       "...              ...         ...            ...                ...   \n",
       "6602          Medium      Public       Positive                  2   \n",
       "6603            High      Public       Positive                  2   \n",
       "6604          Medium      Public       Negative                  2   \n",
       "6605          Medium     Private       Positive                  3   \n",
       "6606          Medium      Public       Positive                  4   \n",
       "\n",
       "     Learning_Disabilities Parental_Education_Level Distance_from_Home  \\\n",
       "0                       No              High School               Near   \n",
       "1                       No                  College           Moderate   \n",
       "2                       No             Postgraduate               Near   \n",
       "3                       No              High School           Moderate   \n",
       "4                       No                  College               Near   \n",
       "...                    ...                      ...                ...   \n",
       "6602                    No              High School               Near   \n",
       "6603                    No              High School               Near   \n",
       "6604                    No             Postgraduate               Near   \n",
       "6605                    No              High School                Far   \n",
       "6606                    No             Postgraduate               Near   \n",
       "\n",
       "      Gender  Exam_Score  \n",
       "0       Male          67  \n",
       "1     Female          61  \n",
       "2       Male          74  \n",
       "3       Male          71  \n",
       "4     Female          70  \n",
       "...      ...         ...  \n",
       "6602  Female          68  \n",
       "6603  Female          69  \n",
       "6604  Female          68  \n",
       "6605  Female          68  \n",
       "6606    Male          64  \n",
       "\n",
       "[6607 rows x 20 columns]>"
      ]
     },
     "execution_count": 13,
     "metadata": {},
     "output_type": "execute_result"
    }
   ],
   "source": [
    "df.head"
   ]
  },
  {
   "cell_type": "code",
   "execution_count": null,
   "id": "ea27d426-59eb-492a-9c63-06f91e9a0541",
   "metadata": {},
   "outputs": [],
   "source": []
  }
 ],
 "metadata": {
  "kernelspec": {
   "display_name": "Python 3 (ipykernel)",
   "language": "python",
   "name": "python3"
  },
  "language_info": {
   "codemirror_mode": {
    "name": "ipython",
    "version": 3
   },
   "file_extension": ".py",
   "mimetype": "text/x-python",
   "name": "python",
   "nbconvert_exporter": "python",
   "pygments_lexer": "ipython3",
   "version": "3.11.4"
  }
 },
 "nbformat": 4,
 "nbformat_minor": 5
}
